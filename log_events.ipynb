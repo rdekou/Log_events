{
 "cells": [
  {
   "cell_type": "markdown",
   "metadata": {},
   "source": [
    "Mail: rdekou@gmail.com\n",
    "\n",
    "Language: Python 3.5.2"
   ]
  },
  {
   "cell_type": "markdown",
   "metadata": {},
   "source": [
    "\n",
    "In this challenge you are given a csv file, logs.csv , in which each row represents an ad impression event.\n",
    "uuid is a user ID and ts is the timestamp of the event. This file represents one month of logs from our\n",
    "advertising platform for a subset of UUIDs.\n",
    "You can download logs.csv here: https://amadeus.box.com/s/tt3rn4gzb2i046sgtu84ebmyqg14obag\n",
    "\n",
    "\n",
    "### Problem\n",
    "This is a \"feature engineering\" problem. The dataset gives us information about users in raw log form. Using\n",
    "this data, we would like to compute a few features for each user, which we would eventually use in a machine\n",
    "learning model (not part of this problem).\n",
    "\n",
    "We would like you to compute the following features for each user:\n",
    "\n",
    "    multiple_days: Whether the user is active for multiple days (True/False)\n",
    "    weekday_biz: Whether the user's traffic tends to occur during weekday business hours (True/False)\n",
    "    A third feature of your choice. Explore the data and propose something that you think might be useful.\n",
    "\n",
    "Using the language and tools of your choice, please choose criteria to define the above features, compute\n",
    "them for each UUID in the logs, and produce output as a .csv file.\n",
    "Scope\n",
    "\n",
    "\n",
    "The output should contain values for each feature, for each UUID in logs.csv\n",
    "Sample output:\n",
    "\n",
    "uuid,multiple_days,weekday_biz,my_feature\n",
    "\n",
    "AA1A8BE9-1A64-4E94-A975-A85F38310865,True,False,False\n",
    "\n",
    "AAA215A0-A51D-4CE5-BAF5-8DE1AD068DBE,True,True,True\n",
    "\n",
    "AA3D59A6-85CB-484F-A048-4532C88F655E,False,False,False\n",
    "etc...\n",
    "\n"
   ]
  },
  {
   "cell_type": "code",
   "execution_count": 1,
   "metadata": {
    "collapsed": true
   },
   "outputs": [],
   "source": [
    "\n",
    "import pandas as pd\n",
    "\n",
    "import time\n",
    "\n",
    "\n",
    "%matplotlib inline\n"
   ]
  },
  {
   "cell_type": "markdown",
   "metadata": {},
   "source": [
    "Load and explore the dataset"
   ]
  },
  {
   "cell_type": "code",
   "execution_count": 2,
   "metadata": {
    "collapsed": false
   },
   "outputs": [],
   "source": [
    "log_df = pd.read_csv('./logs.csv')"
   ]
  },
  {
   "cell_type": "code",
   "execution_count": 3,
   "metadata": {
    "collapsed": false
   },
   "outputs": [
    {
     "name": "stdout",
     "output_type": "stream",
     "text": [
      "(669491, 4) (257354, 4)\n"
     ]
    }
   ],
   "source": [
    "print(log_df.shape, log_df.drop_duplicates(subset = 'uuid').shape)"
   ]
  },
  {
   "cell_type": "code",
   "execution_count": 4,
   "metadata": {
    "collapsed": false
   },
   "outputs": [
    {
     "data": {
      "text/html": [
       "<div>\n",
       "<table border=\"1\" class=\"dataframe\">\n",
       "  <thead>\n",
       "    <tr style=\"text-align: right;\">\n",
       "      <th></th>\n",
       "      <th>uuid</th>\n",
       "      <th>ts</th>\n",
       "      <th>ip</th>\n",
       "      <th>useragent</th>\n",
       "    </tr>\n",
       "  </thead>\n",
       "  <tbody>\n",
       "    <tr>\n",
       "      <th>0</th>\n",
       "      <td>AAAFBFB0-8FE9-4C37-964F-0AD7CBBEAF48</td>\n",
       "      <td>2017-07-08 11:54:14</td>\n",
       "      <td>193.232.46.20</td>\n",
       "      <td>Mozilla/5.0 (Windows NT 6.1; Win64; x64) Apple...</td>\n",
       "    </tr>\n",
       "    <tr>\n",
       "      <th>1</th>\n",
       "      <td>AAAB4ABA-A7FF-4AF2-B89D-0474A372FB10</td>\n",
       "      <td>2017-07-08 11:54:18</td>\n",
       "      <td>80.215.10.165</td>\n",
       "      <td>Mozilla/5.0 (iPhone; CPU iPhone OS 10_3_2 like...</td>\n",
       "    </tr>\n",
       "    <tr>\n",
       "      <th>2</th>\n",
       "      <td>AAE4ABAB-9530-4C31-8A3A-C2CA98E4EAFA</td>\n",
       "      <td>2017-07-08 11:54:32</td>\n",
       "      <td>88.125.155.125</td>\n",
       "      <td>Mozilla/5.0 (iPhone; CPU iPhone OS 9_3_5 like ...</td>\n",
       "    </tr>\n",
       "    <tr>\n",
       "      <th>3</th>\n",
       "      <td>AAA7F528-6651-44C9-8B75-E6B6F2DF5348</td>\n",
       "      <td>2017-07-08 19:31:17</td>\n",
       "      <td>62.42.89.118</td>\n",
       "      <td>Mozilla/5.0 (Windows NT 10.0; Win64; x64) Appl...</td>\n",
       "    </tr>\n",
       "    <tr>\n",
       "      <th>4</th>\n",
       "      <td>AA6011B0-89CD-4225-8E92-5CE61BB1FC73</td>\n",
       "      <td>2017-07-08 19:31:25</td>\n",
       "      <td>87.170.121.139</td>\n",
       "      <td>Mozilla/5.0 (Android 4.4.4; Tablet; rv:54.0) G...</td>\n",
       "    </tr>\n",
       "  </tbody>\n",
       "</table>\n",
       "</div>"
      ],
      "text/plain": [
       "                                   uuid                   ts              ip  \\\n",
       "0  AAAFBFB0-8FE9-4C37-964F-0AD7CBBEAF48  2017-07-08 11:54:14   193.232.46.20   \n",
       "1  AAAB4ABA-A7FF-4AF2-B89D-0474A372FB10  2017-07-08 11:54:18   80.215.10.165   \n",
       "2  AAE4ABAB-9530-4C31-8A3A-C2CA98E4EAFA  2017-07-08 11:54:32  88.125.155.125   \n",
       "3  AAA7F528-6651-44C9-8B75-E6B6F2DF5348  2017-07-08 19:31:17    62.42.89.118   \n",
       "4  AA6011B0-89CD-4225-8E92-5CE61BB1FC73  2017-07-08 19:31:25  87.170.121.139   \n",
       "\n",
       "                                           useragent  \n",
       "0  Mozilla/5.0 (Windows NT 6.1; Win64; x64) Apple...  \n",
       "1  Mozilla/5.0 (iPhone; CPU iPhone OS 10_3_2 like...  \n",
       "2  Mozilla/5.0 (iPhone; CPU iPhone OS 9_3_5 like ...  \n",
       "3  Mozilla/5.0 (Windows NT 10.0; Win64; x64) Appl...  \n",
       "4  Mozilla/5.0 (Android 4.4.4; Tablet; rv:54.0) G...  "
      ]
     },
     "execution_count": 4,
     "metadata": {},
     "output_type": "execute_result"
    }
   ],
   "source": [
    "log_df.head()"
   ]
  },
  {
   "cell_type": "markdown",
   "metadata": {},
   "source": [
    "Investigating missing values"
   ]
  },
  {
   "cell_type": "code",
   "execution_count": 5,
   "metadata": {
    "collapsed": false
   },
   "outputs": [
    {
     "data": {
      "text/plain": [
       "<matplotlib.axes._subplots.AxesSubplot at 0x498b7d2358>"
      ]
     },
     "execution_count": 5,
     "metadata": {},
     "output_type": "execute_result"
    },
    {
     "data": {
      "image/png": "[encoded data removed]",
      "text/plain": [
       "<matplotlib.figure.Figure at 0x498b7d2a58>"
      ]
     },
     "metadata": {},
     "output_type": "display_data"
    }
   ],
   "source": [
    "missing = log_df.isnull().sum()\n",
    "missing = missing[missing > 0]\n",
    "missing.sort_values(inplace=True)\n",
    "missing\n",
    "missing.plot.bar()"
   ]
  },
  {
   "cell_type": "markdown",
   "metadata": {},
   "source": [
    "There is no missing values in the columns of interest 'uuid' and 'ts'"
   ]
  },
  {
   "cell_type": "code",
   "execution_count": 6,
   "metadata": {
    "collapsed": true
   },
   "outputs": [],
   "source": [
    "log_df = log_df.drop(['ip', 'useragent'], axis = 1)"
   ]
  },
  {
   "cell_type": "code",
   "execution_count": 7,
   "metadata": {
    "collapsed": false
   },
   "outputs": [
    {
     "data": {
      "text/html": [
       "<div>\n",
       "<table border=\"1\" class=\"dataframe\">\n",
       "  <thead>\n",
       "    <tr style=\"text-align: right;\">\n",
       "      <th></th>\n",
       "      <th>uuid</th>\n",
       "      <th>ts</th>\n",
       "    </tr>\n",
       "  </thead>\n",
       "  <tbody>\n",
       "    <tr>\n",
       "      <th>0</th>\n",
       "      <td>AAAFBFB0-8FE9-4C37-964F-0AD7CBBEAF48</td>\n",
       "      <td>2017-07-08 11:54:14</td>\n",
       "    </tr>\n",
       "    <tr>\n",
       "      <th>1</th>\n",
       "      <td>AAAB4ABA-A7FF-4AF2-B89D-0474A372FB10</td>\n",
       "      <td>2017-07-08 11:54:18</td>\n",
       "    </tr>\n",
       "    <tr>\n",
       "      <th>2</th>\n",
       "      <td>AAE4ABAB-9530-4C31-8A3A-C2CA98E4EAFA</td>\n",
       "      <td>2017-07-08 11:54:32</td>\n",
       "    </tr>\n",
       "  </tbody>\n",
       "</table>\n",
       "</div>"
      ],
      "text/plain": [
       "                                   uuid                   ts\n",
       "0  AAAFBFB0-8FE9-4C37-964F-0AD7CBBEAF48  2017-07-08 11:54:14\n",
       "1  AAAB4ABA-A7FF-4AF2-B89D-0474A372FB10  2017-07-08 11:54:18\n",
       "2  AAE4ABAB-9530-4C31-8A3A-C2CA98E4EAFA  2017-07-08 11:54:32"
      ]
     },
     "execution_count": 7,
     "metadata": {},
     "output_type": "execute_result"
    }
   ],
   "source": [
    "log_df.head(3)"
   ]
  },
  {
   "cell_type": "markdown",
   "metadata": {},
   "source": [
    "Getting event day, hour and day of week from event time"
   ]
  },
  {
   "cell_type": "code",
   "execution_count": 8,
   "metadata": {
    "collapsed": true
   },
   "outputs": [],
   "source": [
    "feature0 = ['day', 'hour']\n",
    "\n",
    "\n",
    "for i in range(len(feature0)):\n",
    "    \n",
    "     log_df[feature0[i]] = pd.Series(index=log_df.index)\n"
   ]
  },
  {
   "cell_type": "code",
   "execution_count": 9,
   "metadata": {
    "collapsed": false
   },
   "outputs": [],
   "source": [
    "log_df.day =  pd.to_datetime(log_df.ts, format= '%Y-%m-%d %H:%M:%S.%f').dt.day\n",
    "\n",
    "log_df.hour =  pd.to_datetime(log_df.ts, format= '%Y-%m-%d %H:%M:%S.%f').dt.hour\n",
    "\n",
    "log_df['weekday']=  pd.to_datetime(log_df.ts).dt.dayofweek"
   ]
  },
  {
   "cell_type": "code",
   "execution_count": 10,
   "metadata": {
    "collapsed": false
   },
   "outputs": [
    {
     "data": {
      "text/html": [
       "<div>\n",
       "<table border=\"1\" class=\"dataframe\">\n",
       "  <thead>\n",
       "    <tr style=\"text-align: right;\">\n",
       "      <th></th>\n",
       "      <th>uuid</th>\n",
       "      <th>ts</th>\n",
       "      <th>day</th>\n",
       "      <th>hour</th>\n",
       "      <th>weekday</th>\n",
       "    </tr>\n",
       "  </thead>\n",
       "  <tbody>\n",
       "    <tr>\n",
       "      <th>669486</th>\n",
       "      <td>AAB8DE38-9C48-45D6-A02C-7F5BD267C91F</td>\n",
       "      <td>2017-07-18 23:06:58</td>\n",
       "      <td>18</td>\n",
       "      <td>23</td>\n",
       "      <td>1</td>\n",
       "    </tr>\n",
       "    <tr>\n",
       "      <th>669487</th>\n",
       "      <td>AA0583C8-DEC6-49A7-955D-EDE931011672</td>\n",
       "      <td>2017-07-18 23:06:59</td>\n",
       "      <td>18</td>\n",
       "      <td>23</td>\n",
       "      <td>1</td>\n",
       "    </tr>\n",
       "    <tr>\n",
       "      <th>669488</th>\n",
       "      <td>AA7B042B-9A2C-4E44-8155-0A2DF069279F</td>\n",
       "      <td>2017-07-18 01:03:18</td>\n",
       "      <td>18</td>\n",
       "      <td>1</td>\n",
       "      <td>1</td>\n",
       "    </tr>\n",
       "    <tr>\n",
       "      <th>669489</th>\n",
       "      <td>AAA2881A-F9B4-4B9D-8DAB-BC4B560F4154</td>\n",
       "      <td>2017-07-18 01:03:22</td>\n",
       "      <td>18</td>\n",
       "      <td>1</td>\n",
       "      <td>1</td>\n",
       "    </tr>\n",
       "    <tr>\n",
       "      <th>669490</th>\n",
       "      <td>AACCD508-AA61-4F83-BE72-56AA85B23B89</td>\n",
       "      <td>2017-07-18 01:03:29</td>\n",
       "      <td>18</td>\n",
       "      <td>1</td>\n",
       "      <td>1</td>\n",
       "    </tr>\n",
       "  </tbody>\n",
       "</table>\n",
       "</div>"
      ],
      "text/plain": [
       "                                        uuid                   ts  day  hour  \\\n",
       "669486  AAB8DE38-9C48-45D6-A02C-7F5BD267C91F  2017-07-18 23:06:58   18    23   \n",
       "669487  AA0583C8-DEC6-49A7-955D-EDE931011672  2017-07-18 23:06:59   18    23   \n",
       "669488  AA7B042B-9A2C-4E44-8155-0A2DF069279F  2017-07-18 01:03:18   18     1   \n",
       "669489  AAA2881A-F9B4-4B9D-8DAB-BC4B560F4154  2017-07-18 01:03:22   18     1   \n",
       "669490  AACCD508-AA61-4F83-BE72-56AA85B23B89  2017-07-18 01:03:29   18     1   \n",
       "\n",
       "        weekday  \n",
       "669486        1  \n",
       "669487        1  \n",
       "669488        1  \n",
       "669489        1  \n",
       "669490        1  "
      ]
     },
     "execution_count": 10,
     "metadata": {},
     "output_type": "execute_result"
    }
   ],
   "source": [
    "log_df.tail(5)"
   ]
  },
  {
   "cell_type": "markdown",
   "metadata": {},
   "source": [
    "Grouping the dataframe by user"
   ]
  },
  {
   "cell_type": "code",
   "execution_count": 11,
   "metadata": {
    "collapsed": true
   },
   "outputs": [],
   "source": [
    "log_df_group = log_df.groupby('uuid')"
   ]
  },
  {
   "cell_type": "markdown",
   "metadata": {},
   "source": [
    "Creating new features:\n",
    "\n",
    "    The number of impression is relevant. It gives an indication of the number of conversions. \n",
    "\n",
    "    The CPI (conversion per impression) is a common testing metric across the business"
   ]
  },
  {
   "cell_type": "code",
   "execution_count": 12,
   "metadata": {
    "collapsed": true
   },
   "outputs": [],
   "source": [
    "feature1 = ['multiple_days', 'weekday_biz', 'multiple_imp']\n",
    "\n",
    "\n",
    "for i in range(len(feature1)):\n",
    "    \n",
    "     log_df[feature1[i]] = pd.Series('False', index=log_df.index)\n",
    "  \n",
    "log_df['n_events'] = pd.Series(0, index=log_df.index)\n",
    "        "
   ]
  },
  {
   "cell_type": "code",
   "execution_count": 13,
   "metadata": {
    "collapsed": true
   },
   "outputs": [],
   "source": [
    "log_df = log_df.drop_duplicates(subset = ['uuid'])"
   ]
  },
  {
   "cell_type": "code",
   "execution_count": null,
   "metadata": {
    "collapsed": false,
    "scrolled": true
   },
   "outputs": [],
   "source": []
  },
  {
   "cell_type": "code",
   "execution_count": 14,
   "metadata": {
    "collapsed": false
   },
   "outputs": [
    {
     "name": "stdout",
     "output_type": "stream",
     "text": [
      "0/257354\n",
      "50000/257354\n",
      "100000/257354\n",
      "150000/257354\n",
      "200000/257354\n",
      "250000/257354\n"
     ]
    }
   ],
   "source": [
    "\n",
    "\n",
    "for ind in range(len(log_df.index)): \n",
    "    \n",
    "    if ind%50000 == 0: \n",
    "            print('%s'%ind +'/257354')\n",
    "            \n",
    "    uuid = log_df.iat[ind, 0] #Getting a user id \n",
    "    \n",
    "    cur_group = log_df_group.get_group((uuid)) #Getting all the events associated with the user id\n",
    " \n",
    "    log_df.iat[ind, 8] = cur_group.ts.count() #number of impressions\n",
    "    \n",
    "    if cur_group.ts.count() >1: #more than one impression\n",
    "        log_df.iat[ind, 7] = 'True'\n",
    "        \n",
    "    if cur_group.day.nunique() > 1: #more than one day => multiple days\n",
    " \n",
    "        log_df.iat[ind, 5] = 'True'\n",
    "    \n",
    "    biz = 0\n",
    "    nobiz = 0\n",
    "    \n",
    "    \n",
    "    for i in range(cur_group.day.count()): \n",
    "        \n",
    "        if (cur_group.weekday.values[i]) < 5 and \\\n",
    "           (cur_group.hour.values[i]>=9 ) and (cur_group.hour.values[i]<=17 ) : #Monday till Friday and 9am till 5pm \n",
    "            \n",
    "                biz = biz +1\n",
    "                \n",
    "        else: #nights or weekends\n",
    "            nobiz = nobiz +1\n",
    "            \n",
    "    \n",
    "    if nobiz != 0: \n",
    "        if biz/nobiz >1.0: \n",
    "            log_df.iat[ind, 6] = 'True'\n",
    "            \n",
    "            \n",
    "    else: \n",
    "        log_df.iat[ind, 6] = 'True'"
   ]
  },
  {
   "cell_type": "code",
   "execution_count": 15,
   "metadata": {
    "collapsed": false,
    "scrolled": true
   },
   "outputs": [
    {
     "data": {
      "text/plain": [
       "count    257354.000000\n",
       "mean          2.601440\n",
       "std           8.223889\n",
       "min           1.000000\n",
       "50%           1.000000\n",
       "72%           1.000000\n",
       "90%           5.000000\n",
       "max         923.000000\n",
       "Name: n_events, dtype: float64"
      ]
     },
     "execution_count": 15,
     "metadata": {},
     "output_type": "execute_result"
    }
   ],
   "source": [
    "log_df.n_events.describe(percentiles = [.5, .72, .9])"
   ]
  },
  {
   "cell_type": "markdown",
   "metadata": {},
   "source": [
    "Notice that 72 percent of the users have only one impression."
   ]
  },
  {
   "cell_type": "markdown",
   "metadata": {},
   "source": [
    "Quick check"
   ]
  },
  {
   "cell_type": "code",
   "execution_count": 16,
   "metadata": {
    "collapsed": false
   },
   "outputs": [
    {
     "data": {
      "text/html": [
       "<div>\n",
       "<table border=\"1\" class=\"dataframe\">\n",
       "  <thead>\n",
       "    <tr style=\"text-align: right;\">\n",
       "      <th></th>\n",
       "      <th>uuid</th>\n",
       "      <th>ts</th>\n",
       "      <th>day</th>\n",
       "      <th>hour</th>\n",
       "      <th>weekday</th>\n",
       "      <th>multiple_days</th>\n",
       "      <th>weekday_biz</th>\n",
       "      <th>multiple_imp</th>\n",
       "      <th>n_events</th>\n",
       "    </tr>\n",
       "  </thead>\n",
       "  <tbody>\n",
       "    <tr>\n",
       "      <th>669486</th>\n",
       "      <td>AAB8DE38-9C48-45D6-A02C-7F5BD267C91F</td>\n",
       "      <td>2017-07-18 23:06:58</td>\n",
       "      <td>18</td>\n",
       "      <td>23</td>\n",
       "      <td>1</td>\n",
       "      <td>False</td>\n",
       "      <td>False</td>\n",
       "      <td>False</td>\n",
       "      <td>1</td>\n",
       "    </tr>\n",
       "  </tbody>\n",
       "</table>\n",
       "</div>"
      ],
      "text/plain": [
       "                                        uuid                   ts  day  hour  \\\n",
       "669486  AAB8DE38-9C48-45D6-A02C-7F5BD267C91F  2017-07-18 23:06:58   18    23   \n",
       "\n",
       "        weekday multiple_days weekday_biz multiple_imp  n_events  \n",
       "669486        1         False       False        False         1  "
      ]
     },
     "execution_count": 16,
     "metadata": {},
     "output_type": "execute_result"
    }
   ],
   "source": [
    "log_df[log_df.uuid == 'AAB8DE38-9C48-45D6-A02C-7F5BD267C91F']"
   ]
  },
  {
   "cell_type": "code",
   "execution_count": 17,
   "metadata": {
    "collapsed": false,
    "scrolled": true
   },
   "outputs": [
    {
     "data": {
      "text/html": [
       "<div>\n",
       "<table border=\"1\" class=\"dataframe\">\n",
       "  <thead>\n",
       "    <tr style=\"text-align: right;\">\n",
       "      <th></th>\n",
       "      <th>uuid</th>\n",
       "      <th>day</th>\n",
       "      <th>hour</th>\n",
       "      <th>weekday</th>\n",
       "      <th>n_events</th>\n",
       "    </tr>\n",
       "  </thead>\n",
       "  <tbody>\n",
       "    <tr>\n",
       "      <th>669486</th>\n",
       "      <td>AAB8DE38-9C48-45D6-A02C-7F5BD267C91F</td>\n",
       "      <td>18</td>\n",
       "      <td>23</td>\n",
       "      <td>1</td>\n",
       "      <td>0</td>\n",
       "    </tr>\n",
       "  </tbody>\n",
       "</table>\n",
       "</div>"
      ],
      "text/plain": [
       "                                        uuid  day  hour  weekday  n_events\n",
       "669486  AAB8DE38-9C48-45D6-A02C-7F5BD267C91F   18    23        1         0"
      ]
     },
     "execution_count": 17,
     "metadata": {},
     "output_type": "execute_result"
    }
   ],
   "source": [
    "\n",
    "\n",
    "log_df_group.get_group(('AAB8DE38-9C48-45D6-A02C-7F5BD267C91F'))[['uuid', 'day', 'hour', 'weekday', 'n_events']]"
   ]
  },
  {
   "cell_type": "code",
   "execution_count": 18,
   "metadata": {
    "collapsed": false
   },
   "outputs": [
    {
     "data": {
      "text/html": [
       "<div>\n",
       "<table border=\"1\" class=\"dataframe\">\n",
       "  <thead>\n",
       "    <tr style=\"text-align: right;\">\n",
       "      <th></th>\n",
       "      <th>uuid</th>\n",
       "      <th>ts</th>\n",
       "      <th>day</th>\n",
       "      <th>hour</th>\n",
       "      <th>weekday</th>\n",
       "      <th>multiple_days</th>\n",
       "      <th>weekday_biz</th>\n",
       "      <th>multiple_imp</th>\n",
       "      <th>n_events</th>\n",
       "    </tr>\n",
       "  </thead>\n",
       "  <tbody>\n",
       "    <tr>\n",
       "      <th>243006</th>\n",
       "      <td>AA7B042B-9A2C-4E44-8155-0A2DF069279F</td>\n",
       "      <td>2017-07-18 14:22:35</td>\n",
       "      <td>18</td>\n",
       "      <td>14</td>\n",
       "      <td>1</td>\n",
       "      <td>True</td>\n",
       "      <td>False</td>\n",
       "      <td>True</td>\n",
       "      <td>4</td>\n",
       "    </tr>\n",
       "  </tbody>\n",
       "</table>\n",
       "</div>"
      ],
      "text/plain": [
       "                                        uuid                   ts  day  hour  \\\n",
       "243006  AA7B042B-9A2C-4E44-8155-0A2DF069279F  2017-07-18 14:22:35   18    14   \n",
       "\n",
       "        weekday multiple_days weekday_biz multiple_imp  n_events  \n",
       "243006        1          True       False         True         4  "
      ]
     },
     "execution_count": 18,
     "metadata": {},
     "output_type": "execute_result"
    }
   ],
   "source": [
    "log_df[log_df.uuid == 'AA7B042B-9A2C-4E44-8155-0A2DF069279F']"
   ]
  },
  {
   "cell_type": "code",
   "execution_count": 19,
   "metadata": {
    "collapsed": false
   },
   "outputs": [
    {
     "data": {
      "text/html": [
       "<div>\n",
       "<table border=\"1\" class=\"dataframe\">\n",
       "  <thead>\n",
       "    <tr style=\"text-align: right;\">\n",
       "      <th></th>\n",
       "      <th>uuid</th>\n",
       "      <th>day</th>\n",
       "      <th>hour</th>\n",
       "      <th>weekday</th>\n",
       "      <th>n_events</th>\n",
       "    </tr>\n",
       "  </thead>\n",
       "  <tbody>\n",
       "    <tr>\n",
       "      <th>243006</th>\n",
       "      <td>AA7B042B-9A2C-4E44-8155-0A2DF069279F</td>\n",
       "      <td>18</td>\n",
       "      <td>14</td>\n",
       "      <td>1</td>\n",
       "      <td>0</td>\n",
       "    </tr>\n",
       "    <tr>\n",
       "      <th>268594</th>\n",
       "      <td>AA7B042B-9A2C-4E44-8155-0A2DF069279F</td>\n",
       "      <td>26</td>\n",
       "      <td>5</td>\n",
       "      <td>2</td>\n",
       "      <td>0</td>\n",
       "    </tr>\n",
       "    <tr>\n",
       "      <th>407157</th>\n",
       "      <td>AA7B042B-9A2C-4E44-8155-0A2DF069279F</td>\n",
       "      <td>20</td>\n",
       "      <td>2</td>\n",
       "      <td>3</td>\n",
       "      <td>0</td>\n",
       "    </tr>\n",
       "    <tr>\n",
       "      <th>669488</th>\n",
       "      <td>AA7B042B-9A2C-4E44-8155-0A2DF069279F</td>\n",
       "      <td>18</td>\n",
       "      <td>1</td>\n",
       "      <td>1</td>\n",
       "      <td>0</td>\n",
       "    </tr>\n",
       "  </tbody>\n",
       "</table>\n",
       "</div>"
      ],
      "text/plain": [
       "                                        uuid  day  hour  weekday  n_events\n",
       "243006  AA7B042B-9A2C-4E44-8155-0A2DF069279F   18    14        1         0\n",
       "268594  AA7B042B-9A2C-4E44-8155-0A2DF069279F   26     5        2         0\n",
       "407157  AA7B042B-9A2C-4E44-8155-0A2DF069279F   20     2        3         0\n",
       "669488  AA7B042B-9A2C-4E44-8155-0A2DF069279F   18     1        1         0"
      ]
     },
     "execution_count": 19,
     "metadata": {},
     "output_type": "execute_result"
    }
   ],
   "source": [
    "\n",
    "\n",
    "log_df_group.get_group(('AA7B042B-9A2C-4E44-8155-0A2DF069279F'))[['uuid', 'day', 'hour', 'weekday', 'n_events']]"
   ]
  },
  {
   "cell_type": "code",
   "execution_count": 20,
   "metadata": {
    "collapsed": false
   },
   "outputs": [
    {
     "data": {
      "text/html": [
       "<div>\n",
       "<table border=\"1\" class=\"dataframe\">\n",
       "  <thead>\n",
       "    <tr style=\"text-align: right;\">\n",
       "      <th></th>\n",
       "      <th>uuid</th>\n",
       "      <th>ts</th>\n",
       "      <th>day</th>\n",
       "      <th>hour</th>\n",
       "      <th>weekday</th>\n",
       "      <th>multiple_days</th>\n",
       "      <th>weekday_biz</th>\n",
       "      <th>multiple_imp</th>\n",
       "      <th>n_events</th>\n",
       "    </tr>\n",
       "  </thead>\n",
       "  <tbody>\n",
       "    <tr>\n",
       "      <th>92</th>\n",
       "      <td>AA98C3D7-33F3-4C35-9783-721B664B479A</td>\n",
       "      <td>2017-07-08 09:36:16</td>\n",
       "      <td>8</td>\n",
       "      <td>9</td>\n",
       "      <td>5</td>\n",
       "      <td>True</td>\n",
       "      <td>False</td>\n",
       "      <td>True</td>\n",
       "      <td>4</td>\n",
       "    </tr>\n",
       "  </tbody>\n",
       "</table>\n",
       "</div>"
      ],
      "text/plain": [
       "                                    uuid                   ts  day  hour  \\\n",
       "92  AA98C3D7-33F3-4C35-9783-721B664B479A  2017-07-08 09:36:16    8     9   \n",
       "\n",
       "    weekday multiple_days weekday_biz multiple_imp  n_events  \n",
       "92        5          True       False         True         4  "
      ]
     },
     "execution_count": 20,
     "metadata": {},
     "output_type": "execute_result"
    }
   ],
   "source": [
    "log_df[log_df.uuid == 'AA98C3D7-33F3-4C35-9783-721B664B479A']"
   ]
  },
  {
   "cell_type": "code",
   "execution_count": 21,
   "metadata": {
    "collapsed": false
   },
   "outputs": [
    {
     "data": {
      "text/html": [
       "<div>\n",
       "<table border=\"1\" class=\"dataframe\">\n",
       "  <thead>\n",
       "    <tr style=\"text-align: right;\">\n",
       "      <th></th>\n",
       "      <th>uuid</th>\n",
       "      <th>day</th>\n",
       "      <th>hour</th>\n",
       "      <th>weekday</th>\n",
       "      <th>n_events</th>\n",
       "    </tr>\n",
       "  </thead>\n",
       "  <tbody>\n",
       "    <tr>\n",
       "      <th>92</th>\n",
       "      <td>AA98C3D7-33F3-4C35-9783-721B664B479A</td>\n",
       "      <td>8</td>\n",
       "      <td>9</td>\n",
       "      <td>5</td>\n",
       "      <td>0</td>\n",
       "    </tr>\n",
       "    <tr>\n",
       "      <th>177301</th>\n",
       "      <td>AA98C3D7-33F3-4C35-9783-721B664B479A</td>\n",
       "      <td>4</td>\n",
       "      <td>9</td>\n",
       "      <td>1</td>\n",
       "      <td>0</td>\n",
       "    </tr>\n",
       "    <tr>\n",
       "      <th>177302</th>\n",
       "      <td>AA98C3D7-33F3-4C35-9783-721B664B479A</td>\n",
       "      <td>4</td>\n",
       "      <td>9</td>\n",
       "      <td>1</td>\n",
       "      <td>0</td>\n",
       "    </tr>\n",
       "    <tr>\n",
       "      <th>570664</th>\n",
       "      <td>AA98C3D7-33F3-4C35-9783-721B664B479A</td>\n",
       "      <td>1</td>\n",
       "      <td>10</td>\n",
       "      <td>5</td>\n",
       "      <td>0</td>\n",
       "    </tr>\n",
       "  </tbody>\n",
       "</table>\n",
       "</div>"
      ],
      "text/plain": [
       "                                        uuid  day  hour  weekday  n_events\n",
       "92      AA98C3D7-33F3-4C35-9783-721B664B479A    8     9        5         0\n",
       "177301  AA98C3D7-33F3-4C35-9783-721B664B479A    4     9        1         0\n",
       "177302  AA98C3D7-33F3-4C35-9783-721B664B479A    4     9        1         0\n",
       "570664  AA98C3D7-33F3-4C35-9783-721B664B479A    1    10        5         0"
      ]
     },
     "execution_count": 21,
     "metadata": {},
     "output_type": "execute_result"
    }
   ],
   "source": [
    "\n",
    "\n",
    "log_df_group.get_group(('AA98C3D7-33F3-4C35-9783-721B664B479A'))[['uuid', 'day', 'hour', 'weekday', 'n_events']]"
   ]
  },
  {
   "cell_type": "markdown",
   "metadata": {},
   "source": [
    "Dropping other columns"
   ]
  },
  {
   "cell_type": "code",
   "execution_count": 22,
   "metadata": {
    "collapsed": true
   },
   "outputs": [],
   "source": [
    "log_df = log_df.drop(['ts', 'day', 'hour', 'weekday', 'n_events'], axis = 1)"
   ]
  },
  {
   "cell_type": "code",
   "execution_count": 23,
   "metadata": {
    "collapsed": false
   },
   "outputs": [
    {
     "data": {
      "text/html": [
       "<div>\n",
       "<table border=\"1\" class=\"dataframe\">\n",
       "  <thead>\n",
       "    <tr style=\"text-align: right;\">\n",
       "      <th></th>\n",
       "      <th>uuid</th>\n",
       "      <th>multiple_days</th>\n",
       "      <th>weekday_biz</th>\n",
       "      <th>multiple_imp</th>\n",
       "    </tr>\n",
       "  </thead>\n",
       "  <tbody>\n",
       "    <tr>\n",
       "      <th>0</th>\n",
       "      <td>AAAFBFB0-8FE9-4C37-964F-0AD7CBBEAF48</td>\n",
       "      <td>True</td>\n",
       "      <td>False</td>\n",
       "      <td>True</td>\n",
       "    </tr>\n",
       "    <tr>\n",
       "      <th>1</th>\n",
       "      <td>AAAB4ABA-A7FF-4AF2-B89D-0474A372FB10</td>\n",
       "      <td>False</td>\n",
       "      <td>False</td>\n",
       "      <td>False</td>\n",
       "    </tr>\n",
       "    <tr>\n",
       "      <th>2</th>\n",
       "      <td>AAE4ABAB-9530-4C31-8A3A-C2CA98E4EAFA</td>\n",
       "      <td>False</td>\n",
       "      <td>False</td>\n",
       "      <td>False</td>\n",
       "    </tr>\n",
       "  </tbody>\n",
       "</table>\n",
       "</div>"
      ],
      "text/plain": [
       "                                   uuid multiple_days weekday_biz multiple_imp\n",
       "0  AAAFBFB0-8FE9-4C37-964F-0AD7CBBEAF48          True       False         True\n",
       "1  AAAB4ABA-A7FF-4AF2-B89D-0474A372FB10         False       False        False\n",
       "2  AAE4ABAB-9530-4C31-8A3A-C2CA98E4EAFA         False       False        False"
      ]
     },
     "execution_count": 23,
     "metadata": {},
     "output_type": "execute_result"
    }
   ],
   "source": [
    "log_df.head(3)"
   ]
  },
  {
   "cell_type": "markdown",
   "metadata": {},
   "source": [
    "Describing how many users are labeled 'True' for each feature"
   ]
  },
  {
   "cell_type": "code",
   "execution_count": 24,
   "metadata": {
    "collapsed": false
   },
   "outputs": [
    {
     "name": "stdout",
     "output_type": "stream",
     "text": [
      "There are 36035 users labelled True in multiple_days\n",
      "There are 87675 users labelled True in weekday_biz\n",
      "There are 71980 users labelled True in multiple_imp\n"
     ]
    }
   ],
   "source": [
    "col = log_df.columns[1:]\n",
    "\n",
    "for icol in col:\n",
    "    print ('There are %d'%log_df[log_df[icol] == 'True'].shape[0], 'users labelled True in %s'%icol)"
   ]
  },
  {
   "cell_type": "code",
   "execution_count": 25,
   "metadata": {
    "collapsed": false
   },
   "outputs": [
    {
     "name": "stdout",
     "output_type": "stream",
     "text": [
      "0.14 percent of users are labelled True in multiple_days\n",
      "0.34 percent of users are labelled True in weekday_biz\n",
      "0.28 percent of users are labelled True in multiple_imp\n"
     ]
    }
   ],
   "source": [
    "for icol in col:\n",
    "    print ('%0.2f'%(log_df[log_df[icol] == 'True'].shape[0]/log_df.shape[0]), 'percent of users are labelled True in %s'%icol)"
   ]
  },
  {
   "cell_type": "code",
   "execution_count": 26,
   "metadata": {
    "collapsed": false,
    "scrolled": true
   },
   "outputs": [
    {
     "data": {
      "text/plain": [
       "(257354, 4)"
      ]
     },
     "execution_count": 26,
     "metadata": {},
     "output_type": "execute_result"
    }
   ],
   "source": [
    "\n",
    "log_df.shape"
   ]
  },
  {
   "cell_type": "code",
   "execution_count": 28,
   "metadata": {
    "collapsed": true
   },
   "outputs": [],
   "source": [
    "log_df.to_csv('./output.csv', index= False)"
   ]
  },
  {
   "cell_type": "markdown",
   "metadata": {},
   "source": [
    "\n",
    "\n"
   ]
  }
 ],
 "metadata": {
  "kernelspec": {
   "display_name": "Python [Root]",
   "language": "python",
   "name": "Python [Root]"
  },
  "language_info": {
   "codemirror_mode": {
    "name": "ipython",
    "version": 3
   },
   "file_extension": ".py",
   "mimetype": "text/x-python",
   "name": "python",
   "nbconvert_exporter": "python",
   "pygments_lexer": "ipython3",
   "version": "3.5.2"
  }
 },
 "nbformat": 4,
 "nbformat_minor": 0
}
